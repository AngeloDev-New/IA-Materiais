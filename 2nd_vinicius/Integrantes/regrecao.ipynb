{
 "cells": [
  {
   "cell_type": "markdown",
   "id": "b3f67502",
   "metadata": {},
   "source": [
    "# Normalizando Dados"
   ]
  },
  {
   "cell_type": "code",
   "execution_count": 5,
   "id": "da383287",
   "metadata": {},
   "outputs": [],
   "source": [
    "import pandas as pd\n",
    "from sklearn.compose import ColumnTransformer\n",
    "from sklearn.preprocessing import OneHotEncoder\n",
    "from sklearn.model_selection import train_test_split\n",
    "from sklearn.linear_model import LinearRegression\n",
    "\n",
    "\n",
    "data = pd.read_csv('imovel_limpo.csv')\n"
   ]
  },
  {
   "cell_type": "code",
   "execution_count": 9,
   "id": "a36f9c15",
   "metadata": {},
   "outputs": [
    {
     "name": "stdout",
     "output_type": "stream",
     "text": [
      "Coeficientes: [ 2.62940504e+04  1.55840114e+04  1.82154727e+04  1.90870830e+04\n",
      " -5.34131731e+03  8.83051528e+04  5.95385750e+04  9.29454013e+03\n",
      "  2.16829718e+04  7.23585825e+03  1.92496016e+04  1.50645070e+04\n",
      "  1.16079544e+04  1.41829707e+04 -2.55331624e+03  9.67664585e+03\n",
      " -4.34780876e+03 -1.37737643e+04  1.84343150e+04  2.70140832e+04\n",
      "  3.89286608e+04  2.53515784e+04  1.15462625e+04  2.26166090e+04\n",
      "  1.65942107e+04  2.82828032e+04  1.47770609e+04  9.60386564e+03\n",
      "  9.56619425e+03  2.63304028e+04  7.01652230e+03  7.25110333e+03\n",
      "  4.30677452e+03  2.15064104e+03 -2.06546458e+03  2.48159868e+04\n",
      "  4.33813746e+04 -1.60219142e+04  4.50122983e+04 -3.09137146e+04\n",
      " -4.32956149e+03 -2.82884439e+03 -4.89801468e+04 -3.46150007e+04\n",
      " -2.69233105e+04  6.39810208e+03 -1.07575023e+05 -5.79216037e+05\n",
      "  2.38071619e+04  4.90967876e+03  3.24871214e+04 -1.09877293e+03\n",
      "  2.33178931e+04 -4.32280340e+03  9.30642100e+03  1.24714403e+04\n",
      "  5.95793108e+03  1.36387417e+04  9.87058233e+03  9.83695396e+03\n",
      " -1.49944771e+04  1.72853248e+04 -3.12394304e+04 -4.94815287e+04\n",
      "  6.02019298e+05  3.12269321e+03  4.58428827e+03 -2.08711190e-01]\n",
      "Intercepto: 24718.536583492758\n",
      "Score R² no teste: -9.623951956096413\n",
      "Preço estimado: [23381.25409593]\n"
     ]
    },
    {
     "name": "stderr",
     "output_type": "stream",
     "text": [
      "/home/angelo/Documentos/venvs/aula/lib/python3.12/site-packages/sklearn/preprocessing/_encoders.py:246: UserWarning: Found unknown categories in columns [0] during transform. These unknown categories will be encoded as all zeros\n",
      "  warnings.warn(\n"
     ]
    }
   ],
   "source": [
    "\n",
    "\n",
    "\n",
    "dados = pd.DataFrame({\n",
    "    'quartos': list(data.get('Quartos')),\n",
    "    'suites': list(data.get('Suítes')),\n",
    "    'area': list(data.get('Área do imóvel')),\n",
    "    'tipo': list(data.get('Tipo do imóvel')),\n",
    "    'bairro': list(data.get('Bairro')),   \n",
    "    'preco': list(data.get('Preço'))\n",
    "})\n",
    "dados = dados.dropna()\n",
    "\n",
    "# --- Limpeza dos dados numéricos ---\n",
    "dados['area'] = (\n",
    "    dados['area']\n",
    "    .astype(str)\n",
    "    .str.replace('m²', '', regex=False)\n",
    "    .str.replace(' ', '', regex=False)\n",
    "    .str.replace(',', '.', regex=False)\n",
    "    .astype(float)\n",
    ")\n",
    "dados['preco'] = (\n",
    "    dados['preco']\n",
    "    .astype(str)\n",
    "    .str.replace('R$', '', regex=False)\n",
    "    .str.replace(' ', '', regex=False)\n",
    "    .str.replace(',00', '', regex=False)\n",
    "    .str.replace('.', '', regex=False)\n",
    "    .astype(float)\n",
    ")\n",
    "\n",
    "X = dados[['quartos', 'suites', 'area', 'tipo', 'bairro']]\n",
    "y = dados['preco']\n",
    "\n",
    "colunas_categoricas = ['bairro','tipo']\n",
    "colunas_numericas = ['quartos', 'suites', 'area']\n",
    "\n",
    "preprocessador = ColumnTransformer([\n",
    "    ('cat', OneHotEncoder(drop='first' ,handle_unknown='ignore'), colunas_categoricas)\n",
    "], remainder='passthrough')\n",
    "\n",
    "# --- Divide treino/teste ---\n",
    "X_treino, X_teste, y_treino, y_teste = train_test_split(X, y, test_size=0.2, random_state=42)\n",
    "\n",
    "# --- Cria e treina o modelo ---\n",
    "modelo = LinearRegression()\n",
    "modelo.fit(preprocessador.fit_transform(X_treino), y_treino)\n",
    "\n",
    "# --- Resultados ---\n",
    "print(\"Coeficientes:\", modelo.coef_)\n",
    "print(\"Intercepto:\", modelo.intercept_)\n",
    "print(\"Score R² no teste:\", modelo.score(preprocessador.transform(X_teste), y_teste))\n",
    "\n",
    "# --- Predição de um novo imóvel ---\n",
    "novo = pd.DataFrame({\n",
    "    'quartos': [2],\n",
    "    'suites': [1],\n",
    "    'tipo': ['Residencial'],\n",
    "    'area': [70],\n",
    "    'bairro': ['Centro']\n",
    "})\n",
    "\n",
    "preco_previsto = modelo.predict(preprocessador.transform(novo))\n",
    "print(\"Preço estimado:\", preco_previsto)\n",
    "\n"
   ]
  }
 ],
 "metadata": {
  "kernelspec": {
   "display_name": "aula",
   "language": "python",
   "name": "python3"
  },
  "language_info": {
   "codemirror_mode": {
    "name": "ipython",
    "version": 3
   },
   "file_extension": ".py",
   "mimetype": "text/x-python",
   "name": "python",
   "nbconvert_exporter": "python",
   "pygments_lexer": "ipython3",
   "version": "3.12.3"
  }
 },
 "nbformat": 4,
 "nbformat_minor": 5
}
