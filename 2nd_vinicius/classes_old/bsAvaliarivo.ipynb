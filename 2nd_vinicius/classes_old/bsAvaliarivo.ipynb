{
 "cells": [
  {
   "cell_type": "markdown",
   "id": "d98dd58d",
   "metadata": {},
   "source": [
    "# Grupo 2 – Paginação em Sites\n",
    "## Como identificar a paginação em uma URL (page/2, query params, botões “next”)."
   ]
  },
  {
   "cell_type": "code",
   "execution_count": null,
   "id": "0a99d221",
   "metadata": {},
   "outputs": [],
   "source": [
    "import requests\n",
    "from bs4 import BeautifulSoup\n",
    "# Quotes to Scrape\n",
    "html_quotes = requests.get('https://quotes.toscrape.com/')\n",
    "# Books to Scrape.\n",
    "html_books = requests.get('https://books.toscrape.com/')\n"
   ]
  },
  {
   "cell_type": "markdown",
   "id": "d7a2dc30",
   "metadata": {},
   "source": [
    "## Estratégias para automatizar a navegação em várias páginas."
   ]
  }
 ],
 "metadata": {
  "kernelspec": {
   "display_name": "Python 3",
   "language": "python",
   "name": "python3"
  },
  "language_info": {
   "codemirror_mode": {
    "name": "ipython",
    "version": 3
   },
   "file_extension": ".py",
   "mimetype": "text/x-python",
   "name": "python",
   "nbconvert_exporter": "python",
   "pygments_lexer": "ipython3",
   "version": "3.13.3"
  }
 },
 "nbformat": 4,
 "nbformat_minor": 5
}
