{
 "cells": [
  {
   "cell_type": "code",
   "execution_count": 4,
   "id": "0a7d8383",
   "metadata": {},
   "outputs": [
    {
     "name": "stdout",
     "output_type": "stream",
     "text": [
      "Coeficientes: [-47633.13609467  28911.24260355  14366.86390533 -14544.37869822\n",
      "  28911.24260355   6508.87573964]\n",
      "Intercepto: 83822.48520710057\n",
      "Score R² no teste: nan\n",
      "Preço estimado: [582544.37869822]\n"
     ]
    },
    {
     "name": "stderr",
     "output_type": "stream",
     "text": [
      "/home/angelo/Documentos/venvs/aula/lib/python3.12/site-packages/sklearn/metrics/_regression.py:1283: UndefinedMetricWarning: R^2 score is not well-defined with less than two samples.\n",
      "  warnings.warn(msg, UndefinedMetricWarning)\n"
     ]
    }
   ],
   "source": [
    "# ! pip install scikit-learn\n",
    "\n",
    "import pandas as pd\n",
    "from sklearn.linear_model import LinearRegression\n",
    "from sklearn.preprocessing import OneHotEncoder\n",
    "from sklearn.compose import ColumnTransformer\n",
    "from sklearn.model_selection import train_test_split\n",
    "\n",
    "# --- Exemplo de dados ---\n",
    "dados = pd.DataFrame({\n",
    "    'quartos': [2, 3, 1, 3, 2],\n",
    "    'suites': [1, 2, 0, 1, 1],\n",
    "    'vagas': [1, 2, 1, 2, 1],\n",
    "    'area_m2': [65, 120, 45, 100, 80],\n",
    "    'bairro': ['Centro', 'Jardim', 'Centro', 'Jardim', 'Industrial'],\n",
    "    'preco': [550000, 950000, 420000, 850000, 600000]\n",
    "})\n",
    "\n",
    "# --- X (entradas) e y (alvo) ---\n",
    "X = dados[['quartos', 'suites', 'vagas', 'area_m2', 'bairro']]\n",
    "y = dados['preco']\n",
    "\n",
    "# --- Codifica o bairro (variável categórica) ---\n",
    "colunas_categoricas = ['bairro']\n",
    "colunas_numericas = ['quartos', 'suites', 'vagas', 'area_m2']\n",
    "\n",
    "preprocessador = ColumnTransformer([\n",
    "    ('cat', OneHotEncoder(drop='first'), colunas_categoricas)\n",
    "], remainder='passthrough')\n",
    "\n",
    "# --- Divide treino/teste ---\n",
    "X_treino, X_teste, y_treino, y_teste = train_test_split(X, y, test_size=0.2, random_state=42)\n",
    "\n",
    "# --- Cria e treina o modelo ---\n",
    "modelo = LinearRegression()\n",
    "modelo.fit(preprocessador.fit_transform(X_treino), y_treino)\n",
    "\n",
    "# --- Resultados ---\n",
    "print(\"Coeficientes:\", modelo.coef_)\n",
    "print(\"Intercepto:\", modelo.intercept_)\n",
    "print(\"Score R² no teste:\", modelo.score(preprocessador.transform(X_teste), y_teste))\n",
    "\n",
    "# --- Predição de um novo imóvel ---\n",
    "novo = pd.DataFrame({\n",
    "    'quartos': [2],\n",
    "    'suites': [1],\n",
    "    'vagas': [1],\n",
    "    'area_m2': [70],\n",
    "    'bairro': ['Centro']\n",
    "})\n",
    "\n",
    "preco_previsto = modelo.predict(preprocessador.transform(novo))\n",
    "print(\"Preço estimado:\", preco_previsto)\n"
   ]
  },
  {
   "cell_type": "code",
   "execution_count": 12,
   "id": "735502e2",
   "metadata": {},
   "outputs": [
    {
     "name": "stdout",
     "output_type": "stream",
     "text": [
      "Coeficientes: [-7.39091198e+03 -4.36134760e+03  2.02409290e+04  6.50344837e+02\n",
      " -1.41395820e+03 -2.77159405e+03 -9.26802821e+03 -6.55389225e+05\n",
      " -6.76012938e+03  8.12003459e+03  2.77366079e+03  2.35835599e+04\n",
      "  4.38241011e+03 -3.03840463e+03 -2.96372319e+03 -6.46553935e+03\n",
      " -4.63465269e+03 -3.66142097e+03  2.95926193e+02  1.28208366e+05\n",
      "  1.99616106e+04 -4.74450865e+03  7.13048412e+01 -2.52177571e+03\n",
      " -3.77309363e+03 -1.27932979e+05 -2.36213920e+03 -6.05339565e+03\n",
      "  3.71384694e+03 -5.77986335e+03 -3.07965767e+05  3.46400613e+02\n",
      "  4.49698183e+02  4.96441893e+03 -6.23082956e+03 -6.99280265e+03\n",
      " -1.49065766e+03  1.41138458e+03  1.16250618e+04 -1.08903361e+04\n",
      "  1.19564635e+03  6.62484528e+03 -1.75493270e+04 -2.32708434e+04\n",
      "  6.27169016e+05  3.09150409e+03 -1.07859325e+03 -1.50522084e+01]\n",
      "Intercepto: 22807.072396145715\n",
      "Score R² no teste: -272.10592243227234\n",
      "Preço estimado: [9308.50570827]\n"
     ]
    },
    {
     "name": "stderr",
     "output_type": "stream",
     "text": [
      "/home/angelo/Documentos/venvs/aula/lib/python3.12/site-packages/sklearn/preprocessing/_encoders.py:246: UserWarning: Found unknown categories in columns [0] during transform. These unknown categories will be encoded as all zeros\n",
      "  warnings.warn(\n"
     ]
    }
   ],
   "source": [
    "data = pd.read_csv('out.csv')\n",
    "\n",
    "\n",
    "dados = pd.DataFrame({\n",
    "    'quartos': list(data.get('Quartos')),\n",
    "    'suites': list(data.get('Suítes')),\n",
    "    'area': list(data.get('Área Total')),\n",
    "    'tipo': list(data.get('Tipo')),\n",
    "    'bairro': list(data.get('Bairro')),   \n",
    "    'preco': list(data.get('Preço'))\n",
    "})\n",
    "dados = dados.dropna()\n",
    "\n",
    "\n",
    "X = dados[['quartos', 'suites', 'area', 'tipo', 'bairro']]\n",
    "y = dados['preco']\n",
    "\n",
    "colunas_categoricas = ['bairro','tipo']\n",
    "colunas_numericas = ['quartos', 'suites', 'area']\n",
    "\n",
    "preprocessador = ColumnTransformer([\n",
    "    ('cat', OneHotEncoder(drop='first' ,handle_unknown='ignore'), colunas_categoricas)\n",
    "], remainder='passthrough')\n",
    "\n",
    "# --- Divide treino/teste ---\n",
    "X_treino, X_teste, y_treino, y_teste = train_test_split(X, y, test_size=0.2, random_state=42)\n",
    "\n",
    "# --- Cria e treina o modelo ---\n",
    "modelo = LinearRegression()\n",
    "modelo.fit(preprocessador.fit_transform(X_treino), y_treino)\n",
    "\n",
    "# --- Resultados ---\n",
    "print(\"Coeficientes:\", modelo.coef_)\n",
    "print(\"Intercepto:\", modelo.intercept_)\n",
    "print(\"Score R² no teste:\", modelo.score(preprocessador.transform(X_teste), y_teste))\n",
    "\n",
    "# --- Predição de um novo imóvel ---\n",
    "novo = pd.DataFrame({\n",
    "    'quartos': [2],\n",
    "    'suites': [1],\n",
    "    'tipo': ['Residencial'],\n",
    "    'area': [70],\n",
    "    'bairro': ['Centro']\n",
    "})\n",
    "\n",
    "preco_previsto = modelo.predict(preprocessador.transform(novo))\n",
    "print(\"Preço estimado:\", preco_previsto)\n",
    "\n"
   ]
  },
  {
   "cell_type": "code",
   "execution_count": null,
   "id": "160bf3a7",
   "metadata": {},
   "outputs": [],
   "source": []
  }
 ],
 "metadata": {
  "kernelspec": {
   "display_name": "aula",
   "language": "python",
   "name": "python3"
  },
  "language_info": {
   "codemirror_mode": {
    "name": "ipython",
    "version": 3
   },
   "file_extension": ".py",
   "mimetype": "text/x-python",
   "name": "python",
   "nbconvert_exporter": "python",
   "pygments_lexer": "ipython3",
   "version": "3.12.3"
  }
 },
 "nbformat": 4,
 "nbformat_minor": 5
}
