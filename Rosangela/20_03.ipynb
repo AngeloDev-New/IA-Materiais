{
 "cells": [
  {
   "cell_type": "code",
   "execution_count": 2,
   "metadata": {},
   "outputs": [],
   "source": [
    "import numpy as np"
   ]
  },
  {
   "cell_type": "code",
   "execution_count": 4,
   "metadata": {},
   "outputs": [
    {
     "name": "stdout",
     "output_type": "stream",
     "text": [
      "Matriz A:\n",
      "[[1 2 1]\n",
      " [3 4 7]\n",
      " [5 7 8]]\n",
      "\n",
      "Matriz B:\n",
      "[[ 5  6  9]\n",
      " [ 7  8  4]\n",
      " [ 2 -4  7]]\n"
     ]
    }
   ],
   "source": [
    "A = np.array([  [1, 2, 1],\n",
    "                [3, 4, 7], \n",
    "                [5, 7, 8]])\n",
    "\n",
    "B = np.array([  [5, 6, 9],\n",
    "                [7, 8, 4],\n",
    "                [2, -4, 7]])\n",
    "print(\"Matriz A:\")\n",
    "print(A)\n",
    "print(\"\\nMatriz B:\")\n",
    "print(B)"
   ]
  },
  {
   "cell_type": "code",
   "execution_count": 5,
   "metadata": {},
   "outputs": [
    {
     "name": "stdout",
     "output_type": "stream",
     "text": [
      "Soma:\n",
      "[[ 6  8 10]\n",
      " [10 12 11]\n",
      " [ 7  3 15]]\n",
      "Subtracao:\n",
      "[[-4 -4 -8]\n",
      " [-4 -4  3]\n",
      " [ 3 11  1]]\n"
     ]
    }
   ],
   "source": [
    "# Soma de matriz\n",
    "print('Soma:',A+B,'Subtracao:',A-B,sep='\\n')"
   ]
  }
 ],
 "metadata": {
  "kernelspec": {
   "display_name": "venv",
   "language": "python",
   "name": "python3"
  },
  "language_info": {
   "codemirror_mode": {
    "name": "ipython",
    "version": 3
   },
   "file_extension": ".py",
   "mimetype": "text/x-python",
   "name": "python",
   "nbconvert_exporter": "python",
   "pygments_lexer": "ipython3",
   "version": "3.13.2"
  }
 },
 "nbformat": 4,
 "nbformat_minor": 2
}
