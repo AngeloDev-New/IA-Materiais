{
 "cells": [
  {
   "cell_type": "markdown",
   "id": "3e82a67c",
   "metadata": {},
   "source": [
    "# Um pouco sobre Selenium\n",
    "```bash\n",
    "pip install selenium\n",
    "pip install webdriver-manager"
   ]
  },
  {
   "cell_type": "code",
   "execution_count": null,
   "id": "54faf20b",
   "metadata": {},
   "outputs": [],
   "source": [
    "# facil\n",
    "import time\n",
    "from selenium import webdriver\n",
    "driver = webdriver.Chrome()   \n",
    "driver.get('https://google.com')\n",
    "time.sleep(10)\n",
    "driver.close()"
   ]
  },
  {
   "cell_type": "code",
   "execution_count": 11,
   "id": "3507c030",
   "metadata": {},
   "outputs": [
    {
     "name": "stdout",
     "output_type": "stream",
     "text": [
      "Google\n"
     ]
    }
   ],
   "source": [
    "# dificil\n",
    "\n",
    "from selenium import webdriver\n",
    "from selenium.webdriver.chrome.service import Service\n",
    "import time\n",
    "\n",
    "service = Service('web_driver/chromedriver-linux64/chromedriver')\n",
    "\n",
    "driver = webdriver.Chrome(service = service)\n",
    "driver.get('https://google.com')\n",
    "\n",
    "print(driver.title)\n",
    "time.sleep(3)\n",
    "# driver.quit()"
   ]
  },
  {
   "cell_type": "code",
   "execution_count": null,
   "id": "5a221a00",
   "metadata": {},
   "outputs": [],
   "source": [
    "from selenium.webdriver.common.by import By\n",
    "from selenium.webdriver.common.keys import Keys\n",
    "\n",
    "search_box = driver.find_element(By.NAME,\"q\")\n",
    "search_box.send_keys(\"Selenium Python\")\n",
    "search_box.send_keys(Keys.RETURN)\n",
    "time.sleep(10)"
   ]
  }
 ],
 "metadata": {
  "kernelspec": {
   "display_name": ".venv",
   "language": "python",
   "name": "python3"
  },
  "language_info": {
   "codemirror_mode": {
    "name": "ipython",
    "version": 3
   },
   "file_extension": ".py",
   "mimetype": "text/x-python",
   "name": "python",
   "nbconvert_exporter": "python",
   "pygments_lexer": "ipython3",
   "version": "3.12.3"
  }
 },
 "nbformat": 4,
 "nbformat_minor": 5
}
