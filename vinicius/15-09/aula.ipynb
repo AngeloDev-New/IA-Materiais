{
 "cells": [
  {
   "cell_type": "code",
   "execution_count": 29,
   "id": "2ae5b097",
   "metadata": {},
   "outputs": [
    {
     "ename": "InvalidSessionIdException",
     "evalue": "Message: invalid session id; For documentation on this error, please visit: https://www.selenium.dev/documentation/webdriver/troubleshooting/errors#invalidsessionidexception\nStacktrace:\n#0 0x5d2e56af594a <unknown>\n#1 0x5d2e5656a6f3 <unknown>\n#2 0x5d2e565adb2f <unknown>\n#3 0x5d2e565e1f36 <unknown>\n#4 0x5d2e565dca0e <unknown>\n#5 0x5d2e565dbb52 <unknown>\n#6 0x5d2e56532d05 <unknown>\n#7 0x5d2e56ab9548 <unknown>\n#8 0x5d2e56abd272 <unknown>\n#9 0x5d2e56aa0313 <unknown>\n#10 0x5d2e56abddc5 <unknown>\n#11 0x5d2e56a8549f <unknown>\n#12 0x5d2e56530b7b <unknown>\n#13 0x7fb270e2a1ca <unknown>\n#14 0x7fb270e2a28b __libc_start_main\n#15 0x5d2e564f4c6a _start\n",
     "output_type": "error",
     "traceback": [
      "\u001b[31m---------------------------------------------------------------------------\u001b[39m",
      "\u001b[31mInvalidSessionIdException\u001b[39m                 Traceback (most recent call last)",
      "\u001b[36mCell\u001b[39m\u001b[36m \u001b[39m\u001b[32mIn[29]\u001b[39m\u001b[32m, line 22\u001b[39m\n\u001b[32m     20\u001b[39m driver.close()\n\u001b[32m     21\u001b[39m \u001b[38;5;66;03m# driver.find_element(By.ID,'datepicker').send_\u001b[39;00m\n\u001b[32m---> \u001b[39m\u001b[32m22\u001b[39m select = Select(\u001b[43mdriver\u001b[49m\u001b[43m.\u001b[49m\u001b[43mfind_element\u001b[49m\u001b[43m(\u001b[49m\u001b[43mBy\u001b[49m\u001b[43m.\u001b[49m\u001b[43mID\u001b[49m\u001b[43m,\u001b[49m\u001b[33;43m\"\u001b[39;49m\u001b[33;43mselect-menu\u001b[39;49m\u001b[33;43m\"\u001b[39;49m\u001b[43m)\u001b[49m)\n\u001b[32m     23\u001b[39m select.select_by_visible_text(\u001b[33m'\u001b[39m\u001b[33m'\u001b[39m)\n",
      "\u001b[36mFile \u001b[39m\u001b[32m~/Documentos/IA-Materiais/.venv/lib/python3.12/site-packages/selenium/webdriver/remote/webdriver.py:926\u001b[39m, in \u001b[36mWebDriver.find_element\u001b[39m\u001b[34m(self, by, value)\u001b[39m\n\u001b[32m    923\u001b[39m         \u001b[38;5;28;01mraise\u001b[39;00m NoSuchElementException(\u001b[33mf\u001b[39m\u001b[33m\"\u001b[39m\u001b[33mCannot locate relative element with: \u001b[39m\u001b[38;5;132;01m{\u001b[39;00mby.root\u001b[38;5;132;01m}\u001b[39;00m\u001b[33m\"\u001b[39m)\n\u001b[32m    924\u001b[39m     \u001b[38;5;28;01mreturn\u001b[39;00m elements[\u001b[32m0\u001b[39m]\n\u001b[32m--> \u001b[39m\u001b[32m926\u001b[39m \u001b[38;5;28;01mreturn\u001b[39;00m \u001b[38;5;28;43mself\u001b[39;49m\u001b[43m.\u001b[49m\u001b[43mexecute\u001b[49m\u001b[43m(\u001b[49m\u001b[43mCommand\u001b[49m\u001b[43m.\u001b[49m\u001b[43mFIND_ELEMENT\u001b[49m\u001b[43m,\u001b[49m\u001b[43m \u001b[49m\u001b[43m{\u001b[49m\u001b[33;43m\"\u001b[39;49m\u001b[33;43musing\u001b[39;49m\u001b[33;43m\"\u001b[39;49m\u001b[43m:\u001b[49m\u001b[43m \u001b[49m\u001b[43mby\u001b[49m\u001b[43m,\u001b[49m\u001b[43m \u001b[49m\u001b[33;43m\"\u001b[39;49m\u001b[33;43mvalue\u001b[39;49m\u001b[33;43m\"\u001b[39;49m\u001b[43m:\u001b[49m\u001b[43m \u001b[49m\u001b[43mvalue\u001b[49m\u001b[43m}\u001b[49m\u001b[43m)\u001b[49m[\u001b[33m\"\u001b[39m\u001b[33mvalue\u001b[39m\u001b[33m\"\u001b[39m]\n",
      "\u001b[36mFile \u001b[39m\u001b[32m~/Documentos/IA-Materiais/.venv/lib/python3.12/site-packages/selenium/webdriver/remote/webdriver.py:458\u001b[39m, in \u001b[36mWebDriver.execute\u001b[39m\u001b[34m(self, driver_command, params)\u001b[39m\n\u001b[32m    455\u001b[39m response = cast(RemoteConnection, \u001b[38;5;28mself\u001b[39m.command_executor).execute(driver_command, params)\n\u001b[32m    457\u001b[39m \u001b[38;5;28;01mif\u001b[39;00m response:\n\u001b[32m--> \u001b[39m\u001b[32m458\u001b[39m     \u001b[38;5;28;43mself\u001b[39;49m\u001b[43m.\u001b[49m\u001b[43merror_handler\u001b[49m\u001b[43m.\u001b[49m\u001b[43mcheck_response\u001b[49m\u001b[43m(\u001b[49m\u001b[43mresponse\u001b[49m\u001b[43m)\u001b[49m\n\u001b[32m    459\u001b[39m     response[\u001b[33m\"\u001b[39m\u001b[33mvalue\u001b[39m\u001b[33m\"\u001b[39m] = \u001b[38;5;28mself\u001b[39m._unwrap_value(response.get(\u001b[33m\"\u001b[39m\u001b[33mvalue\u001b[39m\u001b[33m\"\u001b[39m, \u001b[38;5;28;01mNone\u001b[39;00m))\n\u001b[32m    460\u001b[39m     \u001b[38;5;28;01mreturn\u001b[39;00m response\n",
      "\u001b[36mFile \u001b[39m\u001b[32m~/Documentos/IA-Materiais/.venv/lib/python3.12/site-packages/selenium/webdriver/remote/errorhandler.py:232\u001b[39m, in \u001b[36mErrorHandler.check_response\u001b[39m\u001b[34m(self, response)\u001b[39m\n\u001b[32m    230\u001b[39m         alert_text = value[\u001b[33m\"\u001b[39m\u001b[33malert\u001b[39m\u001b[33m\"\u001b[39m].get(\u001b[33m\"\u001b[39m\u001b[33mtext\u001b[39m\u001b[33m\"\u001b[39m)\n\u001b[32m    231\u001b[39m     \u001b[38;5;28;01mraise\u001b[39;00m exception_class(message, screen, stacktrace, alert_text)  \u001b[38;5;66;03m# type: ignore[call-arg]  # mypy is not smart enough here\u001b[39;00m\n\u001b[32m--> \u001b[39m\u001b[32m232\u001b[39m \u001b[38;5;28;01mraise\u001b[39;00m exception_class(message, screen, stacktrace)\n",
      "\u001b[31mInvalidSessionIdException\u001b[39m: Message: invalid session id; For documentation on this error, please visit: https://www.selenium.dev/documentation/webdriver/troubleshooting/errors#invalidsessionidexception\nStacktrace:\n#0 0x5d2e56af594a <unknown>\n#1 0x5d2e5656a6f3 <unknown>\n#2 0x5d2e565adb2f <unknown>\n#3 0x5d2e565e1f36 <unknown>\n#4 0x5d2e565dca0e <unknown>\n#5 0x5d2e565dbb52 <unknown>\n#6 0x5d2e56532d05 <unknown>\n#7 0x5d2e56ab9548 <unknown>\n#8 0x5d2e56abd272 <unknown>\n#9 0x5d2e56aa0313 <unknown>\n#10 0x5d2e56abddc5 <unknown>\n#11 0x5d2e56a8549f <unknown>\n#12 0x5d2e56530b7b <unknown>\n#13 0x7fb270e2a1ca <unknown>\n#14 0x7fb270e2a28b __libc_start_main\n#15 0x5d2e564f4c6a _start\n"
     ]
    }
   ],
   "source": [
    "from selenium import webdriver\n",
    "from selenium.webdriver.common.by import By\n",
    "from selenium.webdriver.support.ui import Select\n",
    "import random\n",
    "import time\n",
    "def randonTime(min = 0,max = 2):\n",
    "    second = random.randint(min,max)\n",
    "    time.sleep(second)\n",
    "    \n",
    "\n",
    "driver = webdriver.Chrome()\n",
    "\n",
    "driver.maximize_window()\n",
    "driver.get(\"https://formy-project.herokuapp.com/form\")\n",
    "for k,v in zip(['first-name','last-name','job-title'],\n",
    "               ['Joao','Silva','Desenvolvedor']):\n",
    "    driver.find_element(By.ID,k).send_keys(v)\n",
    "    randonTime()\n",
    "time.sleep(10)\n",
    "driver.close()\n",
    "# driver.find_element(By.ID,'datepicker').send_\n",
    "select = Select(driver.find_element(By.ID,\"select-menu\"))\n",
    "select.select_by_visible_text('')"
   ]
  },
  {
   "cell_type": "markdown",
   "id": "d71ecb30",
   "metadata": {},
   "source": [
    "### 1. Automation Testing – Formulário de Registro\n",
    "\n",
    "Atividade:\n",
    "Automatizar o preenchimento completo do formulário de registro.\n",
    "\n",
    "Tarefas:\n",
    "\n",
    "    Preencher nome, sobrenome e endereço.\n",
    "\n",
    "    Selecionar gênero e pelo menos dois hobbies.\n",
    "\n",
    "    Escolher idiomas, habilidades, país e data de nascimento.\n",
    "\n",
    "    Submeter o formulário e verificar se a submissão foi realizada corretamente.\n",
    "\n"
   ]
  },
  {
   "cell_type": "code",
   "execution_count": null,
   "id": "afc5edac",
   "metadata": {},
   "outputs": [],
   "source": [
    "driver = webdriver.Chrome()\n",
    "\n",
    "driver.maximize_window()\n",
    "driver.get(\"https://demo.automationtesting.in/Register.html\")\n",
    "# Preencher nome, sobrenome e endereço.\n",
    "driver.find_element(By.CSS_SELECTOR,'div.form-group:nth-child(1) > div:nth-child(2) > input:nth-child(1)').send_keys('Angelo')\n",
    "driver.find_element(By.CSS_SELECTOR,'#basicBootstrapForm > div:nth-child(1) > div:nth-child(3) > input').send_keys('Santos')\n",
    "driver.find_element(By.CSS_SELECTOR,'#basicBootstrapForm > div:nth-child(2) > div > textarea').send_keys('Rua Janaina')\n",
    "\n",
    "driver.find_element(By.XPATH, '//*[@id=\"eid\"]/input').send_keys('abv@gmail.com')\n",
    "driver.find_element(By.XPATH, '//*[@id=\"basicBootstrapForm\"]/div[4]/div/input').send_keys('1234567890')\n",
    "\n",
    "# Selecionar gênero e pelo menos dois hobbies.\n",
    "driver.find_element(By.ID,'checkbox1').click()\n",
    "driver.find_element(By.ID,'checkbox2').click()\n",
    "driver.find_element(By.CSS_SELECTOR,'#basicBootstrapForm > div:nth-child(5) > div > label:nth-child(1) > input').click()\n",
    "#  Escolher idiomas, habilidades, país e data de nascimento.\n",
    "langs = [\n",
    "    'Portuguese',\n",
    "    'Spanish',\n",
    "    'English'\n",
    "]\n",
    "driver.find_element(By.XPATH,'//*[@id=\"msdd\"]').click()\n",
    "for lang in langs:\n",
    "    for language in driver.find_elements(By.CLASS_NAME,'ui-corner-all'):\n",
    "        if language.text == lang:\n",
    "            language.click()\n",
    "            randonTime()\n",
    "        \n",
    "select = Select(driver.find_element(By.ID,'Skills'))\n",
    "select.select_by_visible_text('Android')\n",
    "\n",
    "driver.find_element(By.CSS_SELECTOR,'.select2-selection__arrow').click()\n",
    "select = Select(driver.find_element(By.ID, 'yearbox'))\n",
    "select.select_by_visible_text('2000')\n",
    "for country in driver.find_elements(By.CLASS_NAME,'select2-results__option'):\n",
    "    time.sleep(1)\n",
    "    if country.text == 'Denmark':\n",
    "        country.click()\n",
    "        break\n",
    "select = Select(driver.find_element(By.ID, 'yearbox'))\n",
    "select.select_by_visible_text('2000')\n",
    "\n",
    "select = Select(driver.find_element(By.XPATH, '//*[@id=\"basicBootstrapForm\"]/div[11]/div[2]/select'))\n",
    "select.select_by_visible_text('January')\n",
    "\n",
    "select = Select(driver.find_element(By.ID, 'daybox'))\n",
    "select.select_by_visible_text('20')\n",
    "\n",
    "driver.find_element(By.ID, 'submitbtn').click()\n",
    "\n",
    "\n",
    "\n",
    "time.sleep(5)\n",
    "print('O country nao te mais opcoes entao nao da pra realiar o submit')\n",
    "driver.close()"
   ]
  },
  {
   "cell_type": "markdown",
   "id": "d39bcb27",
   "metadata": {},
   "source": [
    "### 2. Swag Labs (SauceDemo)\n",
    "\n",
    "Atividade:\n",
    "Automatizar o login e fluxo básico de compra.\n",
    "\n",
    "Tarefas:\n",
    "\n",
    "    Efetuar login com standard_user / secret_sauce.\n",
    "\n",
    "    Adicionar um produto ao carrinho.\n",
    "\n",
    "    Acessar o carrinho e iniciar o checkout.\n",
    "\n",
    "    Finalizar a compra e validar a mensagem de confirmação.\n"
   ]
  },
  {
   "cell_type": "code",
   "execution_count": null,
   "id": "c734bf3c",
   "metadata": {},
   "outputs": [],
   "source": []
  },
  {
   "cell_type": "markdown",
   "id": "f7c8bcff",
   "metadata": {},
   "source": [
    "\n",
    "### 3. QA Practice – Registro\n",
    "\n",
    "Atividade:\n",
    "Automatizar testes de validação de formulário.\n",
    "\n",
    "Tarefas:\n",
    "\n",
    "    Preencher campos obrigatórios com dados válidos e inválidos.\n",
    "\n",
    "    Automatizar a submissão do formulário com diferentes cenários de teste.`"
   ]
  },
  {
   "cell_type": "code",
   "execution_count": null,
   "id": "909b740e",
   "metadata": {},
   "outputs": [],
   "source": []
  }
 ],
 "metadata": {
  "kernelspec": {
   "display_name": ".venv",
   "language": "python",
   "name": "python3"
  },
  "language_info": {
   "codemirror_mode": {
    "name": "ipython",
    "version": 3
   },
   "file_extension": ".py",
   "mimetype": "text/x-python",
   "name": "python",
   "nbconvert_exporter": "python",
   "pygments_lexer": "ipython3",
   "version": "3.12.3"
  }
 },
 "nbformat": 4,
 "nbformat_minor": 5
}
