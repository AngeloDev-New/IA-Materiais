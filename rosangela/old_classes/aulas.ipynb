{
 "cells": [
  {
   "cell_type": "markdown",
   "id": "eee162db",
   "metadata": {},
   "source": [
    "# Newthon- Rapshon"
   ]
  },
  {
   "cell_type": "code",
   "execution_count": 62,
   "id": "d39a3b84",
   "metadata": {},
   "outputs": [
    {
     "name": "stdout",
     "output_type": "stream",
     "text": [
      "\t\tXk\t\tXk+1\t\terro\n",
      "Iteracao:1\t 0.8 \t\t 0.1 \t\t0.7000000000000001\n",
      "Iteracao:2\t 0.1 \t\t 20.05 \t\t19.95\n",
      "Iteracao:3\t 20.05 \t\t 10.124750623441397 \t\t9.925249376558604\n",
      "Iteracao:4\t 10.124750623441397 \t\t 5.259911041180493 \t\t4.864839582260904\n",
      "Iteracao:5\t 5.259911041180493 \t\t 3.010190088122236 \t\t2.2497209530582567\n",
      "Iteracao:6\t 3.010190088122236 \t\t 2.169504912358706 \t\t0.8406851757635301\n"
     ]
    }
   ],
   "source": [
    "import time\n",
    "def newtinho(x,funcao,derivada,erro,contador = 1,x_antigo=None):\n",
    "    if contador == 1:\n",
    "        print('\\t\\tXk\\t\\tXk+1\\t\\terro')\n",
    "        x_antigo = x-erro+1\n",
    "    \n",
    "    if (erro_atual:=abs(x-x_antigo)) > erro:\n",
    "        \n",
    "        print(f'Iteracao:{contador}\\t',x_antigo,'\\t\\t',x,f'\\t\\t{erro_atual}')\n",
    "        contador += 1\n",
    "\n",
    "        novo_x = x - (funcao(x)/derivada(x))\n",
    "        time.sleep(1)\n",
    "        newtinho(novo_x,funcao,derivada,erro,contador,x_antigo=x)\n",
    "\n",
    "erro = 0.3\n",
    "funcao = lambda x:x**2-4\n",
    "derivada = lambda x:2*x\n",
    "x1 = 0.1\n",
    "newtinho(x1,funcao,derivada,erro)"
   ]
  },
  {
   "cell_type": "markdown",
   "id": "567387be",
   "metadata": {},
   "source": [
    "# metodoSecante "
   ]
  },
  {
   "cell_type": "code",
   "execution_count": 63,
   "id": "81db2d4a",
   "metadata": {},
   "outputs": [
    {
     "name": "stdout",
     "output_type": "stream",
     "text": [
      "\tXk\t\tXk+1\t\terro\n",
      "Iteracao:2\t 1 \t\t 3 \t\t2\n",
      "Iteracao:3\t 3 \t\t 1.75 \t\t1.25\n"
     ]
    }
   ],
   "source": [
    "# Portugues\n",
    "def secante(x_antigo,x_atual,funcao,erro,contador = 1):\n",
    "    if contador == 1:\n",
    "        print('\\tXk\\t\\tXk+1\\t\\terro')\n",
    "    contador += 1\n",
    "    if (erro_atual:=abs(x_atual-x_antigo)) > erro:\n",
    "        proximo_x = x_atual - (funcao(x_atual)*((x_atual-x_antigo)/(funcao(x_atual)-funcao(x_antigo))))\n",
    "        print(f'Iteracao:{contador}\\t',x_antigo,'\\t\\t',x_atual,f'\\t\\t{erro_atual}')\n",
    "\n",
    "        time.sleep(1)\n",
    "\n",
    "        secante(x_atual,proximo_x,funcao,erro,contador)\n",
    "\n",
    "erro = 0.3\n",
    "\n",
    "funcao = lambda x:x**2-4\n",
    "\n",
    "secante(1,3,funcao,erro)"
   ]
  },
  {
   "cell_type": "code",
   "execution_count": 61,
   "id": "a27b91a4",
   "metadata": {},
   "outputs": [
    {
     "name": "stdout",
     "output_type": "stream",
     "text": [
      "\t\tXk\t\tXk+1\t\terro\n",
      "Iteracao:1\t 2.0 \t\t 1 \t\t1.0\n",
      "Iteracao:2\t 1 \t\t 0.49422754683261294 \t\t0.5057724531673871\n",
      "Iteracao:3\t 0.49422754683261294 \t\t 0.5964142976693068 \t\t0.10218675083669382\n",
      "Iteracao:4\t 0.5964142976693068 \t\t 0.602336552608811 \t\t0.005922254939504268\n",
      "Iteracao:5\t 0.602336552608811 \t\t 0.6023554641720316 \t\t1.891156322053611e-05\n",
      "Iteracao:6\t 0.6023554641720316 \t\t 0.6023554643642636 \t\t1.922320080893769e-10\n",
      "Iteracao:7\t 0.6023554643642636 \t\t 0.6023554643642632 \t\t3.3306690738754696e-16\n"
     ]
    }
   ],
   "source": [
    "from math import e\n",
    "erro = 0.0\n",
    "funcao = lambda x:5-(20*(e**(-0.2*x)-e**(-0.75*x)))\n",
    "derivada = lambda x:4*e**(-0.2*x)-15*e**(-0.75*x)\n",
    "x1 = 1\n",
    "newtinho(x1,funcao,derivada,erro)"
   ]
  }
 ],
 "metadata": {
  "kernelspec": {
   "display_name": "venv",
   "language": "python",
   "name": "python3"
  },
  "language_info": {
   "codemirror_mode": {
    "name": "ipython",
    "version": 3
   },
   "file_extension": ".py",
   "mimetype": "text/x-python",
   "name": "python",
   "nbconvert_exporter": "python",
   "pygments_lexer": "ipython3",
   "version": "3.13.3"
  }
 },
 "nbformat": 4,
 "nbformat_minor": 5
}
