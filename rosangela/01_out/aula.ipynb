{
 "cells": [
  {
   "cell_type": "code",
   "execution_count": 2,
   "id": "fbf7204d",
   "metadata": {},
   "outputs": [
    {
     "name": "stdout",
     "output_type": "stream",
     "text": [
      "23.70844618530766\n",
      "22.315567025027505\n",
      "22.181952568383068\n",
      "22.168646169635764\n"
     ]
    }
   ],
   "source": [
    "import math\n",
    "\n",
    "fun = lambda x:x*math.e**x\n",
    "flin = lambda x,h : (fun(x+h)-fun(x))/h\n",
    "print(flin(2,0.1))\n",
    "print(flin(2,0.01))\n",
    "print(flin(2,0.001))\n",
    "print(flin(2,0.0001))\n"
   ]
  },
  {
   "cell_type": "code",
   "execution_count": 3,
   "id": "447c5369",
   "metadata": {},
   "outputs": [
    {
     "name": "stdout",
     "output_type": "stream",
     "text": [
      "22.22878688030728\n"
     ]
    }
   ],
   "source": [
    "centrada = lambda x,h : (fun(x+h)-fun(x-h))/(2*h)\n",
    "\n",
    "print(centrada(2,0.1))"
   ]
  },
  {
   "cell_type": "code",
   "execution_count": 4,
   "id": "233e579a",
   "metadata": {},
   "outputs": [
    {
     "name": "stdout",
     "output_type": "stream",
     "text": [
      "22.03230486614645\n"
     ]
    }
   ],
   "source": [
    "progressiva = lambda x,h: (-3*fun(x)+4*fun(x+h)-fun(x+2*h))/(2*h)\n",
    "print(progressiva(2,0.1))\n"
   ]
  },
  {
   "cell_type": "code",
   "execution_count": 5,
   "id": "f042fa4c",
   "metadata": {},
   "outputs": [
    {
     "name": "stdout",
     "output_type": "stream",
     "text": [
      "22.054521341023825\n"
     ]
    }
   ],
   "source": [
    "regressiva = lambda x,h: (3*fun(x)-4*fun(x-h)+fun(x-2*h))/(2*h)\n",
    "print(regressiva(2,0.1))"
   ]
  },
  {
   "cell_type": "code",
   "execution_count": 6,
   "id": "1af51a9e",
   "metadata": {},
   "outputs": [
    {
     "name": "stdout",
     "output_type": "stream",
     "text": [
      "2.718281828459045\n"
     ]
    }
   ],
   "source": [
    "print(math.e)"
   ]
  },
  {
   "cell_type": "code",
   "execution_count": 7,
   "id": "d4cc74b2",
   "metadata": {},
   "outputs": [
    {
     "name": "stdout",
     "output_type": "stream",
     "text": [
      "1.8 0.5877866649021191\n",
      "1.9000000000000001 0.6418538861723948\n",
      "2.0 0.6931471805599453\n",
      "2.1000000000000005 0.7419373447293776\n",
      "2.2 0.7884573603642703\n"
     ]
    }
   ],
   "source": [
    "import numpy as np\n",
    "for i in np.arange(1.8,2.3,0.1):\n",
    "    print(i,math.log(i))"
   ]
  },
  {
   "cell_type": "code",
   "execution_count": 8,
   "id": "841a37c1",
   "metadata": {},
   "outputs": [
    {
     "name": "stdout",
     "output_type": "stream",
     "text": [
      "0.4992523843670166\n"
     ]
    }
   ],
   "source": [
    "# exercicio1 progressiva\n",
    "f = lambda x:math.log(x)\n",
    "progressiva = lambda x,h: (-3*f(x)+4*f(x+h)-f(x+2*h))/(2*h)\n",
    "print(progressiva(2,0.1))"
   ]
  },
  {
   "cell_type": "code",
   "execution_count": 9,
   "id": "0e5b8b7e",
   "metadata": {},
   "outputs": [],
   "source": [
    "def table(funct,h,init,steps=5):\n",
    "    print('x\\ty')\n",
    "    for i in range(steps):\n",
    "        print(f'{init:.2f}',funct(init),sep='\\t')\n",
    "        init+=h"
   ]
  },
  {
   "cell_type": "code",
   "execution_count": 10,
   "id": "bd954a95",
   "metadata": {},
   "outputs": [
    {
     "name": "stdout",
     "output_type": "stream",
     "text": [
      "x\ty\n",
      "1.00\t2.718281828459045\n",
      "1.10\t3.0041660239464334\n",
      "1.20\t3.3201169227365477\n",
      "1.30\t3.669296667619245\n",
      "1.40\t4.055199966844675\n",
      "3.309842504414784\n"
     ]
    }
   ],
   "source": [
    "# exercicio 2\n",
    "f = lambda x:math.e**x\n",
    "table(f,0.1,1.0,5)\n",
    "regressiva = lambda x,h: (3*f(x)-4*f(x-h)+f(x-2*h))/(2*h)\n",
    "print(regressiva(1.2,0.1))"
   ]
  },
  {
   "cell_type": "code",
   "execution_count": 11,
   "id": "ffa5a6b9",
   "metadata": {},
   "outputs": [
    {
     "name": "stdout",
     "output_type": "stream",
     "text": [
      "x\ty\n",
      "0.80\t0.6967067093471654\n",
      "0.90\t0.6216099682706644\n",
      "1.00\t0.5403023058681398\n",
      "1.10\t0.4535961214255773\n",
      "1.20\t0.3623577544766734\n",
      "-0.8400692342254353\n",
      "-0.8414709848078965\n"
     ]
    }
   ],
   "source": [
    "# exercicio 3\n",
    "f=lambda x:math.cos(x)\n",
    "table(f,0.1,0.8,5)\n",
    "centrada = lambda x,h : (f(x+h)-f(x-h))/(2*h)\n",
    "print(centrada(1,0.1))\n",
    "print(-1*math.sin(1))"
   ]
  },
  {
   "cell_type": "code",
   "execution_count": 12,
   "id": "7d3ef307",
   "metadata": {},
   "outputs": [
    {
     "name": "stdout",
     "output_type": "stream",
     "text": [
      "x\ty\n",
      "0.30\t0.29552020666133955\n",
      "0.40\t0.3894183423086505\n",
      "0.50\t0.479425538604203\n",
      "0.60\t0.5646424733950354\n",
      "0.70\t0.644217687237691\n",
      "a progressiva 0.8803779526492073\n",
      "b regrssiva 0.8806172661967323\n",
      "c centrada 0.8761206554319242\n",
      "comparando line 0.8775825618903728\n"
     ]
    }
   ],
   "source": [
    "# exercicio 4\n",
    "f = lambda x:math.sin(x)\n",
    "table(f,0.1,0.3,5)\n",
    "progressiva = lambda x,h: (-3*f(x)+4*f(x+h)-f(x+2*h))/(2*h)\n",
    "regressiva = lambda x,h: (3*f(x)-4*f(x-h)+f(x-2*h))/(2*h)\n",
    "centrada = lambda x,h : (f(x+h)-f(x-h))/(2*h)\n",
    "f_line = lambda x:math.cos(x)\n",
    "print('a progressiva',progressiva(0.5,0.1))\n",
    "print('b regrssiva',regressiva(0.5,0.1))\n",
    "print('c centrada',centrada(0.5,0.1))\n",
    "print('comparando line',f_line(0.5))"
   ]
  },
  {
   "cell_type": "code",
   "execution_count": 13,
   "id": "60422119",
   "metadata": {},
   "outputs": [
    {
     "name": "stdout",
     "output_type": "stream",
     "text": [
      "3.0099999999999993\n",
      "2.7100000000000013\n",
      "3.309999999999995\n"
     ]
    }
   ],
   "source": [
    "# 5\n",
    "print((3.320-2.718)/(2*0.1))\n",
    "print((-3*2.718+4*3.004-3.320)/(2*0.1))\n",
    "print((3*3.320-4*3.004+2.718)/(2*0.1))"
   ]
  },
  {
   "cell_type": "code",
   "execution_count": 14,
   "id": "4dfc11c7",
   "metadata": {},
   "outputs": [
    {
     "name": "stdout",
     "output_type": "stream",
     "text": [
      "x\ty\n",
      "1.00\t0.0\n",
      "1.50\t0.4054651081081644\n",
      "2.00\t0.6931471805599453\n",
      "2.50\t0.9162907318741551\n",
      "3.00\t1.0986122886681098\n",
      "f(2)= 0.5108256237659907\n",
      "x\ty\n",
      "1.80\t0.5877866649021191\n",
      "1.90\t0.6418538861723948\n",
      "2.00\t0.6931471805599453\n",
      "2.10\t0.7419373447293773\n",
      "2.20\t0.7884573603642703\n",
      "f(2)= 0.5004172927849132\n",
      "x\ty\n",
      "1.98\t0.6830968447064438\n",
      "1.99\t0.688134638736401\n",
      "2.00\t0.6931471805599453\n",
      "2.01\t0.6981347220709843\n",
      "2.02\t0.7030975114131132\n",
      "f(2)= 0.5000041667291621\n"
     ]
    }
   ],
   "source": [
    "f = lambda x:math.log(x)\n",
    "centrada = lambda x,h : (f(x+h)-f(x-h))/(2*h)\n",
    "table(f,0.5,1,5)\n",
    "print('f(2)=',centrada(2,0.5))\n",
    "table(f,0.1,1.8,5)\n",
    "print('f(2)=',centrada(2,0.1))\n",
    "table(f,0.01,1.98,5)\n",
    "print('f(2)=',centrada(2,0.01))\n",
    "\n"
   ]
  }
 ],
 "metadata": {
  "kernelspec": {
   "display_name": "Python (meuenv)",
   "language": "python",
   "name": "meuenv"
  },
  "language_info": {
   "codemirror_mode": {
    "name": "ipython",
    "version": 3
   },
   "file_extension": ".py",
   "mimetype": "text/x-python",
   "name": "python",
   "nbconvert_exporter": "python",
   "pygments_lexer": "ipython3",
   "version": "3.12.3"
  }
 },
 "nbformat": 4,
 "nbformat_minor": 5
}
