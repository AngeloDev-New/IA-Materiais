{
 "cells": [
  {
   "cell_type": "code",
   "execution_count": 5,
   "id": "b7f3abde",
   "metadata": {},
   "outputs": [
    {
     "name": "stdout",
     "output_type": "stream",
     "text": [
      "New https://pypi.org/project/ultralytics/8.3.204 available 😃 Update with 'pip install -U ultralytics'\n",
      "Ultralytics 8.3.198 🚀 Python-3.12.3 torch-2.8.0+cu128 CPU (Intel Core(TM) i5-4460  3.20GHz)\n",
      "\u001b[34m\u001b[1mengine/trainer: \u001b[0magnostic_nms=False, amp=True, augment=False, auto_augment=randaugment, batch=16, bgr=0.0, box=7.5, cache=False, cfg=None, classes=None, close_mosaic=10, cls=0.5, compile=False, conf=None, copy_paste=0.0, copy_paste_mode=flip, cos_lr=False, cutmix=0.0, data=config.yaml, degrees=0.0, deterministic=True, device=cpu, dfl=1.5, dnn=False, dropout=0.0, dynamic=False, embed=None, epochs=100, erasing=0.4, exist_ok=False, fliplr=0.5, flipud=0.0, format=torchscript, fraction=1.0, freeze=None, half=False, hsv_h=0.015, hsv_s=0.7, hsv_v=0.4, imgsz=640, int8=False, iou=0.7, keras=False, kobj=1.0, line_width=None, lr0=0.01, lrf=0.01, mask_ratio=4, max_det=300, mixup=0.0, mode=train, model=yolov8n.pt, momentum=0.937, mosaic=1.0, multi_scale=False, name=train3, nbs=64, nms=False, opset=None, optimize=False, optimizer=auto, overlap_mask=True, patience=10, perspective=0.0, plots=True, pose=12.0, pretrained=True, profile=False, project=None, rect=False, resume=False, retina_masks=False, save=True, save_conf=False, save_crop=False, save_dir=/home/angelo/Documentos/treinoplacas/yolotests/runs/detect/train3, save_frames=False, save_json=False, save_period=-1, save_txt=False, scale=0.5, seed=0, shear=0.0, show=False, show_boxes=True, show_conf=True, show_labels=True, simplify=True, single_cls=False, source=None, split=val, stream_buffer=False, task=detect, time=None, tracker=botsort.yaml, translate=0.1, val=True, verbose=True, vid_stride=1, visualize=False, warmup_bias_lr=0.1, warmup_epochs=3.0, warmup_momentum=0.8, weight_decay=0.0005, workers=8, workspace=None\n",
      "Overriding model.yaml nc=80 with nc=1\n",
      "\n",
      "                   from  n    params  module                                       arguments                     \n",
      "  0                  -1  1       464  ultralytics.nn.modules.conv.Conv             [3, 16, 3, 2]                 \n",
      "  1                  -1  1      4672  ultralytics.nn.modules.conv.Conv             [16, 32, 3, 2]                \n",
      "  2                  -1  1      7360  ultralytics.nn.modules.block.C2f             [32, 32, 1, True]             \n",
      "  3                  -1  1     18560  ultralytics.nn.modules.conv.Conv             [32, 64, 3, 2]                \n",
      "  4                  -1  2     49664  ultralytics.nn.modules.block.C2f             [64, 64, 2, True]             \n",
      "  5                  -1  1     73984  ultralytics.nn.modules.conv.Conv             [64, 128, 3, 2]               \n",
      "  6                  -1  2    197632  ultralytics.nn.modules.block.C2f             [128, 128, 2, True]           \n",
      "  7                  -1  1    295424  ultralytics.nn.modules.conv.Conv             [128, 256, 3, 2]              \n",
      "  8                  -1  1    460288  ultralytics.nn.modules.block.C2f             [256, 256, 1, True]           \n",
      "  9                  -1  1    164608  ultralytics.nn.modules.block.SPPF            [256, 256, 5]                 \n",
      " 10                  -1  1         0  torch.nn.modules.upsampling.Upsample         [None, 2, 'nearest']          \n",
      " 11             [-1, 6]  1         0  ultralytics.nn.modules.conv.Concat           [1]                           \n",
      " 12                  -1  1    148224  ultralytics.nn.modules.block.C2f             [384, 128, 1]                 \n",
      " 13                  -1  1         0  torch.nn.modules.upsampling.Upsample         [None, 2, 'nearest']          \n",
      " 14             [-1, 4]  1         0  ultralytics.nn.modules.conv.Concat           [1]                           \n",
      " 15                  -1  1     37248  ultralytics.nn.modules.block.C2f             [192, 64, 1]                  \n",
      " 16                  -1  1     36992  ultralytics.nn.modules.conv.Conv             [64, 64, 3, 2]                \n",
      " 17            [-1, 12]  1         0  ultralytics.nn.modules.conv.Concat           [1]                           \n",
      " 18                  -1  1    123648  ultralytics.nn.modules.block.C2f             [192, 128, 1]                 \n",
      " 19                  -1  1    147712  ultralytics.nn.modules.conv.Conv             [128, 128, 3, 2]              \n",
      " 20             [-1, 9]  1         0  ultralytics.nn.modules.conv.Concat           [1]                           \n",
      " 21                  -1  1    493056  ultralytics.nn.modules.block.C2f             [384, 256, 1]                 \n",
      " 22        [15, 18, 21]  1    751507  ultralytics.nn.modules.head.Detect           [1, [64, 128, 256]]           \n"
     ]
    },
    {
     "name": "stderr",
     "output_type": "stream",
     "text": [
      "[W930 21:37:46.014759951 NNPACK.cpp:56] Could not initialize NNPACK! Reason: Unsupported hardware.\n",
      "[W930 21:37:46.018045275 NNPACK.cpp:56] Could not initialize NNPACK! Reason: Unsupported hardware.\n",
      "[W930 21:37:46.020178417 NNPACK.cpp:56] Could not initialize NNPACK! Reason: Unsupported hardware.\n",
      "[W930 21:37:46.024914703 NNPACK.cpp:56] Could not initialize NNPACK! Reason: Unsupported hardware.\n",
      "[W930 21:37:46.034944847 NNPACK.cpp:56] Could not initialize NNPACK! Reason: Unsupported hardware.\n",
      "[W930 21:37:46.036615825 NNPACK.cpp:56] Could not initialize NNPACK! Reason: Unsupported hardware.\n",
      "[W930 21:37:46.038671718 NNPACK.cpp:56] Could not initialize NNPACK! Reason: Unsupported hardware.\n",
      "[W930 21:37:46.047448378 NNPACK.cpp:56] Could not initialize NNPACK! Reason: Unsupported hardware.\n",
      "[W930 21:37:46.058789183 NNPACK.cpp:56] Could not initialize NNPACK! Reason: Unsupported hardware.\n",
      "[W930 21:37:46.061086194 NNPACK.cpp:56] Could not initialize NNPACK! Reason: Unsupported hardware.\n",
      "[W930 21:37:46.097569315 NNPACK.cpp:56] Could not initialize NNPACK! Reason: Unsupported hardware.\n",
      "[W930 21:37:46.100036723 NNPACK.cpp:56] Could not initialize NNPACK! Reason: Unsupported hardware.\n",
      "[W930 21:37:46.108318848 NNPACK.cpp:56] Could not initialize NNPACK! Reason: Unsupported hardware.\n",
      "[W930 21:37:46.110461237 NNPACK.cpp:56] Could not initialize NNPACK! Reason: Unsupported hardware.\n",
      "[W930 21:37:46.151831174 NNPACK.cpp:56] Could not initialize NNPACK! Reason: Unsupported hardware.\n",
      "[W930 21:37:46.153914433 NNPACK.cpp:56] Could not initialize NNPACK! Reason: Unsupported hardware.\n",
      "[W930 21:37:46.166833850 NNPACK.cpp:56] Could not initialize NNPACK! Reason: Unsupported hardware.\n",
      "[W930 21:37:46.181024149 NNPACK.cpp:56] Could not initialize NNPACK! Reason: Unsupported hardware.\n",
      "[W930 21:37:46.181450914 NNPACK.cpp:56] Could not initialize NNPACK! Reason: Unsupported hardware.\n",
      "[W930 21:37:46.183756256 NNPACK.cpp:56] Could not initialize NNPACK! Reason: Unsupported hardware.\n",
      "[W930 21:37:46.184716210 NNPACK.cpp:56] Could not initialize NNPACK! Reason: Unsupported hardware.\n",
      "[W930 21:37:46.185310260 NNPACK.cpp:56] Could not initialize NNPACK! Reason: Unsupported hardware.\n",
      "[W930 21:37:46.187982498 NNPACK.cpp:56] Could not initialize NNPACK! Reason: Unsupported hardware.\n",
      "[W930 21:37:46.210786553 NNPACK.cpp:56] Could not initialize NNPACK! Reason: Unsupported hardware.\n"
     ]
    },
    {
     "name": "stdout",
     "output_type": "stream",
     "text": [
      "Model summary: 129 layers, 3,011,043 parameters, 3,011,027 gradients, 8.2 GFLOPs\n",
      "\n",
      "Transferred 319/355 items from pretrained weights\n",
      "Freezing layer 'model.22.dfl.conv.weight'\n",
      "\u001b[34m\u001b[1mtrain: \u001b[0mFast image access ✅ (ping: 0.0±0.0 ms, read: 1828.9±295.4 MB/s, size: 343.3 KB)\n"
     ]
    },
    {
     "name": "stderr",
     "output_type": "stream",
     "text": [
      "[W930 21:37:46.417338581 NNPACK.cpp:56] Could not initialize NNPACK! Reason: Unsupported hardware.\n",
      "[W930 21:37:46.419114408 NNPACK.cpp:56] Could not initialize NNPACK! Reason: Unsupported hardware.\n",
      "[W930 21:37:46.419967099 NNPACK.cpp:56] Could not initialize NNPACK! Reason: Unsupported hardware.\n",
      "[W930 21:37:46.420766418 NNPACK.cpp:56] Could not initialize NNPACK! Reason: Unsupported hardware.\n",
      "[W930 21:37:46.421524476 NNPACK.cpp:56] Could not initialize NNPACK! Reason: Unsupported hardware.\n",
      "[W930 21:37:46.422298748 NNPACK.cpp:56] Could not initialize NNPACK! Reason: Unsupported hardware.\n",
      "[W930 21:37:46.422986727 NNPACK.cpp:56] Could not initialize NNPACK! Reason: Unsupported hardware.\n",
      "[W930 21:37:46.423727307 NNPACK.cpp:56] Could not initialize NNPACK! Reason: Unsupported hardware.\n",
      "[W930 21:37:46.424454863 NNPACK.cpp:56] Could not initialize NNPACK! Reason: Unsupported hardware.\n",
      "[W930 21:37:46.425257614 NNPACK.cpp:56] Could not initialize NNPACK! Reason: Unsupported hardware.\n",
      "[W930 21:37:46.426128022 NNPACK.cpp:56] Could not initialize NNPACK! Reason: Unsupported hardware.\n",
      "[W930 21:37:46.426865687 NNPACK.cpp:56] Could not initialize NNPACK! Reason: Unsupported hardware.\n",
      "[W930 21:37:46.427697916 NNPACK.cpp:56] Could not initialize NNPACK! Reason: Unsupported hardware.\n",
      "[W930 21:37:46.428591728 NNPACK.cpp:56] Could not initialize NNPACK! Reason: Unsupported hardware.\n",
      "[W930 21:37:46.429556875 NNPACK.cpp:56] Could not initialize NNPACK! Reason: Unsupported hardware.\n",
      "[W930 21:37:46.430518853 NNPACK.cpp:56] Could not initialize NNPACK! Reason: Unsupported hardware.\n",
      "[W930 21:37:46.431465734 NNPACK.cpp:56] Could not initialize NNPACK! Reason: Unsupported hardware.\n",
      "[W930 21:37:46.432386852 NNPACK.cpp:56] Could not initialize NNPACK! Reason: Unsupported hardware.\n",
      "[W930 21:37:46.434027805 NNPACK.cpp:56] Could not initialize NNPACK! Reason: Unsupported hardware.\n",
      "[W930 21:37:46.435100698 NNPACK.cpp:56] Could not initialize NNPACK! Reason: Unsupported hardware.\n",
      "[W930 21:37:46.435992153 NNPACK.cpp:56] Could not initialize NNPACK! Reason: Unsupported hardware.\n",
      "[W930 21:37:46.436840215 NNPACK.cpp:56] Could not initialize NNPACK! Reason: Unsupported hardware.\n",
      "[W930 21:37:46.437632512 NNPACK.cpp:56] Could not initialize NNPACK! Reason: Unsupported hardware.\n",
      "[W930 21:37:46.438384654 NNPACK.cpp:56] Could not initialize NNPACK! Reason: Unsupported hardware.\n",
      "[W930 21:37:46.439161143 NNPACK.cpp:56] Could not initialize NNPACK! Reason: Unsupported hardware.\n",
      "[W930 21:37:46.439875504 NNPACK.cpp:56] Could not initialize NNPACK! Reason: Unsupported hardware.\n",
      "[W930 21:37:46.441062038 NNPACK.cpp:56] Could not initialize NNPACK! Reason: Unsupported hardware.\n",
      "[W930 21:37:46.442129203 NNPACK.cpp:56] Could not initialize NNPACK! Reason: Unsupported hardware.\n",
      "[W930 21:37:46.442979835 NNPACK.cpp:56] Could not initialize NNPACK! Reason: Unsupported hardware.\n",
      "[W930 21:37:46.443749848 NNPACK.cpp:56] Could not initialize NNPACK! Reason: Unsupported hardware.\n",
      "[W930 21:37:46.444566032 NNPACK.cpp:56] Could not initialize NNPACK! Reason: Unsupported hardware.\n",
      "[W930 21:37:46.445747014 NNPACK.cpp:56] Could not initialize NNPACK! Reason: Unsupported hardware.\n",
      "[W930 21:37:46.446706295 NNPACK.cpp:56] Could not initialize NNPACK! Reason: Unsupported hardware.\n",
      "[W930 21:37:46.447571049 NNPACK.cpp:56] Could not initialize NNPACK! Reason: Unsupported hardware.\n",
      "[W930 21:37:46.448436601 NNPACK.cpp:56] Could not initialize NNPACK! Reason: Unsupported hardware.\n",
      "[W930 21:37:46.449903419 NNPACK.cpp:56] Could not initialize NNPACK! Reason: Unsupported hardware.\n",
      "[W930 21:37:46.451052514 NNPACK.cpp:56] Could not initialize NNPACK! Reason: Unsupported hardware.\n",
      "[W930 21:37:46.452115831 NNPACK.cpp:56] Could not initialize NNPACK! Reason: Unsupported hardware.\n",
      "[W930 21:37:46.452975780 NNPACK.cpp:56] Could not initialize NNPACK! Reason: Unsupported hardware.\n",
      "[W930 21:37:46.453762274 NNPACK.cpp:56] Could not initialize NNPACK! Reason: Unsupported hardware.\n",
      "[W930 21:37:46.454463557 NNPACK.cpp:56] Could not initialize NNPACK! Reason: Unsupported hardware.\n",
      "[W930 21:37:46.455252954 NNPACK.cpp:56] Could not initialize NNPACK! Reason: Unsupported hardware.\n",
      "[W930 21:37:46.455960744 NNPACK.cpp:56] Could not initialize NNPACK! Reason: Unsupported hardware.\n",
      "[W930 21:37:46.456664237 NNPACK.cpp:56] Could not initialize NNPACK! Reason: Unsupported hardware.\n",
      "[W930 21:37:46.457392133 NNPACK.cpp:56] Could not initialize NNPACK! Reason: Unsupported hardware.\n",
      "[W930 21:37:46.458107827 NNPACK.cpp:56] Could not initialize NNPACK! Reason: Unsupported hardware.\n",
      "[W930 21:37:46.459053127 NNPACK.cpp:56] Could not initialize NNPACK! Reason: Unsupported hardware.\n",
      "[W930 21:37:46.459857024 NNPACK.cpp:56] Could not initialize NNPACK! Reason: Unsupported hardware.\n",
      "[W930 21:37:46.460739204 NNPACK.cpp:56] Could not initialize NNPACK! Reason: Unsupported hardware.\n",
      "[W930 21:37:46.462040165 NNPACK.cpp:56] Could not initialize NNPACK! Reason: Unsupported hardware.\n",
      "[W930 21:37:46.462899647 NNPACK.cpp:56] Could not initialize NNPACK! Reason: Unsupported hardware.\n",
      "[W930 21:37:46.463839444 NNPACK.cpp:56] Could not initialize NNPACK! Reason: Unsupported hardware.\n",
      "[W930 21:37:46.465041314 NNPACK.cpp:56] Could not initialize NNPACK! Reason: Unsupported hardware.\n",
      "[W930 21:37:46.465928834 NNPACK.cpp:56] Could not initialize NNPACK! Reason: Unsupported hardware.\n",
      "[W930 21:37:46.467144675 NNPACK.cpp:56] Could not initialize NNPACK! Reason: Unsupported hardware.\n",
      "[W930 21:37:46.468198103 NNPACK.cpp:56] Could not initialize NNPACK! Reason: Unsupported hardware.\n",
      "[W930 21:37:46.469087769 NNPACK.cpp:56] Could not initialize NNPACK! Reason: Unsupported hardware.\n",
      "[W930 21:37:46.470043963 NNPACK.cpp:56] Could not initialize NNPACK! Reason: Unsupported hardware.\n",
      "[W930 21:37:46.470818491 NNPACK.cpp:56] Could not initialize NNPACK! Reason: Unsupported hardware.\n",
      "[W930 21:37:46.471468996 NNPACK.cpp:56] Could not initialize NNPACK! Reason: Unsupported hardware.\n",
      "[W930 21:37:46.472346721 NNPACK.cpp:56] Could not initialize NNPACK! Reason: Unsupported hardware.\n",
      "[W930 21:37:46.473080644 NNPACK.cpp:56] Could not initialize NNPACK! Reason: Unsupported hardware.\n",
      "[W930 21:37:46.473700559 NNPACK.cpp:56] Could not initialize NNPACK! Reason: Unsupported hardware.\n",
      "[W930 21:37:46.476336700 NNPACK.cpp:56] Could not initialize NNPACK! Reason: Unsupported hardware.\n"
     ]
    },
    {
     "name": "stdout",
     "output_type": "stream",
     "text": [
      "\u001b[K\u001b[34m\u001b[1mtrain: \u001b[0mScanning /home/angelo/Documentos/IA-Materiais/guilherrme/30_set/data/Images/train... 0 images, 88 backgrounds, 0 corrupt: 100% ━━━━━━━━━━━━ 88/88 653.0it/s 0.1s0.1s\n",
      "WARNING ⚠️ \u001b[34m\u001b[1mtrain: \u001b[0mNo labels found in /home/angelo/Documentos/IA-Materiais/guilherrme/30_set/data/Images/train.cache. See https://docs.ultralytics.com/datasets for dataset formatting guidance.\n",
      "\u001b[34m\u001b[1mtrain: \u001b[0mNew cache created: /home/angelo/Documentos/IA-Materiais/guilherrme/30_set/data/Images/train.cache\n",
      "WARNING ⚠️ Labels are missing or empty in /home/angelo/Documentos/IA-Materiais/guilherrme/30_set/data/Images/train.cache, training may not work correctly. See https://docs.ultralytics.com/datasets for dataset formatting guidance.\n",
      "\u001b[34m\u001b[1mval: \u001b[0mFast image access ✅ (ping: 0.0±0.0 ms, read: 1747.6±236.4 MB/s, size: 215.8 KB)\n",
      "\u001b[K\u001b[34m\u001b[1mval: \u001b[0mScanning /home/angelo/Documentos/IA-Materiais/guilherrme/30_set/data/Images/val... 0 images, 22 backgrounds, 0 corrupt: 100% ━━━━━━━━━━━━ 22/22 655.7it/s 0.0s\n",
      "WARNING ⚠️ \u001b[34m\u001b[1mval: \u001b[0mNo labels found in /home/angelo/Documentos/IA-Materiais/guilherrme/30_set/data/Images/val.cache. See https://docs.ultralytics.com/datasets for dataset formatting guidance.\n",
      "\u001b[34m\u001b[1mval: \u001b[0mNew cache created: /home/angelo/Documentos/IA-Materiais/guilherrme/30_set/data/Images/val.cache\n",
      "WARNING ⚠️ Labels are missing or empty in /home/angelo/Documentos/IA-Materiais/guilherrme/30_set/data/Images/val.cache, training may not work correctly. See https://docs.ultralytics.com/datasets for dataset formatting guidance.\n"
     ]
    },
    {
     "ename": "",
     "evalue": "",
     "output_type": "error",
     "traceback": [
      "\u001b[1;31mThe Kernel crashed while executing code in the current cell or a previous cell. \n",
      "\u001b[1;31mPlease review the code in the cell(s) to identify a possible cause of the failure. \n",
      "\u001b[1;31mClick <a href='https://aka.ms/vscodeJupyterKernelCrash'>here</a> for more info. \n",
      "\u001b[1;31mView Jupyter <a href='command:jupyter.viewOutput'>log</a> for further details."
     ]
    }
   ],
   "source": [
    "from ultralytics import YOLO\n",
    "\n",
    "model = YOLO(\"yolov8n.pt\")  \n",
    "\n",
    "model.train(data=\"config.yaml\", epochs=100,patience = 10)\n"
   ]
  }
 ],
 "metadata": {
  "kernelspec": {
   "display_name": "Python (meuenv)",
   "language": "python",
   "name": "meuenv"
  },
  "language_info": {
   "codemirror_mode": {
    "name": "ipython",
    "version": 3
   },
   "file_extension": ".py",
   "mimetype": "text/x-python",
   "name": "python",
   "nbconvert_exporter": "python",
   "pygments_lexer": "ipython3",
   "version": "3.12.3"
  }
 },
 "nbformat": 4,
 "nbformat_minor": 5
}
