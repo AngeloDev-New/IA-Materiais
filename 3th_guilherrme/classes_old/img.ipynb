{
 "cells": [
  {
   "cell_type": "code",
   "execution_count": 3,
   "id": "502cb3cb",
   "metadata": {},
   "outputs": [
    {
     "data": {
      "image/png": "[encoded data removed]",
      "text/plain": [
       "<Figure size 800x400 with 2 Axes>"
      ]
     },
     "metadata": {},
     "output_type": "display_data"
    },
    {
     "name": "stdout",
     "output_type": "stream",
     "text": [
      "Cores principais (RGB):\n",
      "[[ 77 180 229]\n",
      " [182  65  84]\n",
      " [ 69 168 135]]\n"
     ]
    }
   ],
   "source": [
    "import numpy as np\n",
    "import matplotlib.pyplot as plt\n",
    "import cv2\n",
    "from sklearn.cluster import KMeans\n",
    "\n",
    "# Carrega e prepara a imagem\n",
    "img = cv2.imread('peixe.png')\n",
    "img = cv2.cvtColor(img, cv2.COLOR_BGR2RGB)\n",
    "rgb = cv2.resize(img, (20, 20), interpolation=cv2.INTER_NEAREST)\n",
    "\n",
    "# Reorganiza para vetor de pixels\n",
    "pixels = rgb.reshape(-1, 3)\n",
    "\n",
    "# KMeans para 3 clusters\n",
    "kmeans = KMeans(n_clusters=3, random_state=0, n_init=10)\n",
    "labels = kmeans.fit_predict(pixels)\n",
    "cores = kmeans.cluster_centers_.astype(int)  # cores principais\n",
    "\n",
    "# Reconstroi a imagem só com as 3 cores principais\n",
    "img_reconstruida = cores[labels].reshape(rgb.shape)\n",
    "\n",
    "# Mostra resultados\n",
    "plt.figure(figsize=(8,4))\n",
    "\n",
    "plt.subplot(1,2,1)\n",
    "plt.imshow(rgb)\n",
    "plt.title(\"Original (reduzida)\")\n",
    "plt.axis('off')\n",
    "\n",
    "plt.subplot(1,2,2)\n",
    "plt.imshow(img_reconstruida)\n",
    "plt.title(\"Com 3 cores principais\")\n",
    "plt.axis('off')\n",
    "\n",
    "plt.show()\n",
    "\n",
    "print(\"Cores principais (RGB):\")\n",
    "\n"
   ]
  },
  {
   "cell_type": "markdown",
   "id": "eb9b5b1e",
   "metadata": {},
   "source": [
    "- **[77, 180, 229]**\n",
    "  - R = 77 (baixo), G = 180 (alto), B = 229 (muito alto)\n",
    "  - Muito azul e um pouco de verde → **azul claro/ciano**\n",
    "\n",
    "- **[182, 65, 84]**\n",
    "  - R = 182 (alto), G = 65 (baixo), B = 84 (baixo)\n",
    "  - Predominantemente vermelho → **vermelho rosado ou vinho claro**\n",
    "\n",
    "- **[69, 168, 135]**\n",
    "  - R = 69 (baixo), G = 168 (alto), B = 135 (médio)\n",
    "  - Predominantemente verde com azul → **verde água / teal**\n"
   ]
  }
 ],
 "metadata": {
  "kernelspec": {
   "display_name": ".venv",
   "language": "python",
   "name": "python3"
  },
  "language_info": {
   "codemirror_mode": {
    "name": "ipython",
    "version": 3
   },
   "file_extension": ".py",
   "mimetype": "text/x-python",
   "name": "python",
   "nbconvert_exporter": "python",
   "pygments_lexer": "ipython3",
   "version": "3.12.3"
  }
 },
 "nbformat": 4,
 "nbformat_minor": 5
}
