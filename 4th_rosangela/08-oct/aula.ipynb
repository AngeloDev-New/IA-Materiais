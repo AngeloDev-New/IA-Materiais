{
 "cells": [
  {
   "cell_type": "code",
   "execution_count": null,
   "id": "3ce751ea",
   "metadata": {},
   "outputs": [],
   "source": [
    "# Newton`s method\n",
    "# Parabolic Interpolation\n",
    "# Golden-Section Search\n",
    "\n"
   ]
  },
  {
   "cell_type": "code",
   "execution_count": null,
   "id": "ff946a61",
   "metadata": {},
   "outputs": [],
   "source": []
  }
 ],
 "metadata": {
  "kernelspec": {
   "display_name": "Python (meuenv)",
   "language": "python",
   "name": "meuenv"
  },
  "language_info": {
   "name": "python",
   "version": "3.12.3"
  }
 },
 "nbformat": 4,
 "nbformat_minor": 5
}
