{
 "cells": [
  {
   "cell_type": "markdown",
   "id": "a4a63b19",
   "metadata": {},
   "source": [
    "# Avaliar SRIs\n",
    "## distancia/smilaridade calculada\n"
   ]
  },
  {
   "cell_type": "code",
   "execution_count": null,
   "id": "2239f608",
   "metadata": {},
   "outputs": [],
   "source": []
  }
 ],
 "metadata": {
  "language_info": {
   "name": "python"
  }
 },
 "nbformat": 4,
 "nbformat_minor": 5
}
