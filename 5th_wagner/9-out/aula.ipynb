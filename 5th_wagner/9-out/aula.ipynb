{
 "cells": [
  {
   "cell_type": "markdown",
   "id": "5fa52d2f",
   "metadata": {},
   "source": [
    "# Query Projeto final\n"
   ]
  },
  {
   "cell_type": "code",
   "execution_count": 5,
   "id": "9672f2fc",
   "metadata": {},
   "outputs": [
    {
     "name": "stdout",
     "output_type": "stream",
     "text": [
      "{10, 3, 20}\n",
      "CPU times: user 1.24 ms, sys: 24 μs, total: 1.26 ms\n",
      "Wall time: 1.65 ms\n"
     ]
    }
   ],
   "source": [
    "%%time\n",
    "def intersect(p1,p2):\n",
    "    answer = set()\n",
    "    for a in p1:\n",
    "        for b in p2:\n",
    "            if a==b:\n",
    "                answer.add(a)\n",
    "    return answer\n",
    "# intersect = lambda p1,p2:[ a for a,b in zip(p1,p2) if a==b]\n",
    "print(intersect(\n",
    "    [1,2,4,10,20,51,3],\n",
    "    [3,5,10,15,20]\n",
    "))\n",
    "\n"
   ]
  },
  {
   "cell_type": "code",
   "execution_count": 48,
   "id": "c082a4ad",
   "metadata": {},
   "outputs": [
    {
     "name": "stdout",
     "output_type": "stream",
     "text": [
      "Documentos mais relevantes:\n",
      "passaros.txt → relevância 9\n",
      "gatos.txt → relevância 9\n",
      "desertos.txt → relevância 9\n",
      "o mar.txt → relevância 5\n",
      "lua.txt → relevância 3\n",
      "floresta.txt → relevância 3\n",
      "tempo.txt → relevância 3\n",
      "caes.txt → relevância 2\n",
      "animais.txt → relevância 2\n",
      "elefantes.txt → relevância 1\n"
     ]
    }
   ],
   "source": [
    "import os\n",
    "from collections import defaultdict\n",
    "\n",
    "class Arquivo:\n",
    "    def __init__(self, path):\n",
    "        with open(path, 'r', encoding='UTF-8') as arquiv:\n",
    "            self.text = arquiv.read()\n",
    "\n",
    "        self.name = path.split('/')[-1]\n",
    "        self._processa_texto()\n",
    "\n",
    "    def _processa_texto(self):\n",
    "        # limpa o texto e separa palavras\n",
    "        text = self.text.lower().replace('\\n', ' ').replace('.', ' ').replace(',', ' ')\n",
    "        self.words = set()\n",
    "        self.Words = defaultdict(int)\n",
    "\n",
    "        for word in text.split():\n",
    "            self.Words[word] += 1\n",
    "            self.words.add(word)\n",
    "\n",
    "\n",
    "class IndiceInvertido:\n",
    "    def __init__(self, arqs):\n",
    "        self.indice = defaultdict(dict)  # {palavra: {documento: frequência}}\n",
    "        self.docs = arqs\n",
    "\n",
    "        for doc in arqs:\n",
    "            for word, freq in doc.Words.items():\n",
    "                self.indice[word][doc.name] = freq\n",
    "\n",
    "    def search(self, query):\n",
    "        query = query.lower().split()\n",
    "        ranking = defaultdict(int)\n",
    "\n",
    "        # soma a frequência das palavras da consulta\n",
    "        for word in query:\n",
    "            if word in self.indice:\n",
    "                for doc, freq in self.indice[word].items():\n",
    "                    ranking[doc] += freq\n",
    "\n",
    "        # ordena os documentos mais relevantes\n",
    "        resultado = sorted(ranking.items(), key=lambda x: x[1], reverse=True)\n",
    "\n",
    "        if not resultado:\n",
    "            print(\"Nenhum documento encontrado.\")\n",
    "        else:\n",
    "            print(\"Documentos mais relevantes:\")\n",
    "            for doc, score in resultado:\n",
    "                print(f\"{doc} → relevância {score}\")\n",
    "\n",
    "\n",
    "# ------------------ USO ------------------\n",
    "\n",
    "arqs = [arq for arq in os.listdir('arquivos') if arq.endswith('.txt')]\n",
    "Arqs = [Arquivo(os.path.join('arquivos', arq)) for arq in arqs]\n",
    "\n",
    "indiceInvertido = IndiceInvertido(Arqs)\n",
    "\n",
    "indiceInvertido.search('entre o sol e o mistério fim')\n"
   ]
  }
 ],
 "metadata": {
  "kernelspec": {
   "display_name": "Python (meuenv)",
   "language": "python",
   "name": "meuenv"
  },
  "language_info": {
   "codemirror_mode": {
    "name": "ipython",
    "version": 3
   },
   "file_extension": ".py",
   "mimetype": "text/x-python",
   "name": "python",
   "nbconvert_exporter": "python",
   "pygments_lexer": "ipython3",
   "version": "3.12.3"
  }
 },
 "nbformat": 4,
 "nbformat_minor": 5
}
